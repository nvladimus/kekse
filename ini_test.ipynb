{
 "cells": [
  {
   "cell_type": "code",
   "execution_count": 1,
   "metadata": {},
   "outputs": [],
   "source": [
    "import ctypes"
   ]
  },
  {
   "cell_type": "code",
   "execution_count": 2,
   "metadata": {},
   "outputs": [],
   "source": [
    "dll_path = 'C:/Program Files/Thorlabs/MCM3000 4.0/Application/ThorMCM3000.dll'"
   ]
  },
  {
   "cell_type": "code",
   "execution_count": 3,
   "metadata": {},
   "outputs": [],
   "source": [
    "device = ctypes.windll.LoadLibrary(dll_path)\n",
    "# functions return 0 is failed, 1 if succeded\n",
    "#dev = ctypes.windll.ThorMCM3000"
   ]
  },
  {
   "cell_type": "code",
   "execution_count": 10,
   "metadata": {},
   "outputs": [],
   "source": [
    "n_devices = ctypes.c_long()\n",
    "i_device = ctypes.c_long(0)"
   ]
  },
  {
   "cell_type": "code",
   "execution_count": 5,
   "metadata": {},
   "outputs": [],
   "source": [
    "#device.FindDevices.argtypes = [ctypes.c_long]\n",
    "#device.FindDevices.restype = ctypes.c_bool"
   ]
  },
  {
   "cell_type": "code",
   "execution_count": 12,
   "metadata": {},
   "outputs": [
    {
     "data": {
      "text/plain": [
       "0"
      ]
     },
     "execution_count": 12,
     "metadata": {},
     "output_type": "execute_result"
    }
   ],
   "source": [
    "device.FindDevices(ctypes.byref(n_devices))"
   ]
  },
  {
   "cell_type": "code",
   "execution_count": 11,
   "metadata": {},
   "outputs": [
    {
     "data": {
      "text/plain": [
       "0"
      ]
     },
     "execution_count": 11,
     "metadata": {},
     "output_type": "execute_result"
    }
   ],
   "source": [
    "device.SelectDevice(i_device)"
   ]
  },
  {
   "cell_type": "code",
   "execution_count": 7,
   "metadata": {},
   "outputs": [
    {
     "data": {
      "text/plain": [
       "c_long(0)"
      ]
     },
     "execution_count": 7,
     "metadata": {},
     "output_type": "execute_result"
    }
   ],
   "source": [
    "n_devices"
   ]
  },
  {
   "cell_type": "code",
   "execution_count": 18,
   "metadata": {},
   "outputs": [],
   "source": [
    "error_msg = ctypes.create_string_buffer(32)"
   ]
  },
  {
   "cell_type": "code",
   "execution_count": 20,
   "metadata": {},
   "outputs": [
    {
     "data": {
      "text/plain": [
       "1"
      ]
     },
     "execution_count": 20,
     "metadata": {},
     "output_type": "execute_result"
    }
   ],
   "source": [
    "device.GetLastErrorMsg(ctypes.byref(error_msg), 32)"
   ]
  },
  {
   "cell_type": "code",
   "execution_count": 21,
   "metadata": {},
   "outputs": [
    {
     "data": {
      "text/plain": [
       "b''"
      ]
     },
     "execution_count": 21,
     "metadata": {},
     "output_type": "execute_result"
    }
   ],
   "source": [
    "error_msg.value"
   ]
  },
  {
   "cell_type": "code",
   "execution_count": 35,
   "metadata": {},
   "outputs": [],
   "source": [
    "# parameter IDs\n",
    "PARAM_DEVICE_TYPE = 0\n",
    "PARAM_X_POS = 200\n",
    "PARAM_X_HOME = 201\n",
    "PARAM_X_ZERO = 202\n",
    "PARAM_X_POS_CURRENT = 207\n",
    "PARAM_X_STOP = 209\n",
    "PARAM_X_VELOCITY_CURRENT = 210\n",
    "PARAM_Y_POS = 300\n",
    "PARAM_Y_HOME = 301\n",
    "PARAM_Y_ZERO = 302\n",
    "PARAM_Y_POS_CURRENT = 307\n",
    "PARAM_Y_STOP = 309\n",
    "PARAM_Y_VELOCITY_CURRENT = 310\n",
    "PARAM_Z_POS = 400\n",
    "PARAM_Z_HOME = 401\n",
    "PARAM_Z_ZERO = 402\n",
    "PARAM_Z_POS_CURRENT = 407\n",
    "PARAM_Z_STOP = 409\n",
    "PARAM_Z_VELOCITY_CURRENT = 410\n",
    "\n",
    "STATUS_BUSY = 0\n",
    "STATUS_READY = 1"
   ]
  },
  {
   "cell_type": "code",
   "execution_count": 32,
   "metadata": {},
   "outputs": [],
   "source": [
    "paramType = ctypes.c_int32()\n",
    "paramAvailable = ctypes.c_int32()\n",
    "paramReadOnly = ctypes.c_int32()\n",
    "paramMin = ctypes.c_double()\n",
    "paramMax = ctypes.c_double()\n",
    "paramDefault = ctypes.c_double()\n",
    "status = ctypes.c_int32()"
   ]
  },
  {
   "cell_type": "code",
   "execution_count": 16,
   "metadata": {},
   "outputs": [
    {
     "data": {
      "text/plain": [
       "0"
      ]
     },
     "execution_count": 16,
     "metadata": {},
     "output_type": "execute_result"
    }
   ],
   "source": [
    "device.GetParamInfo(PARAM_DEVICE_TYPE, ctypes.byref(paramType), \n",
    "                    ctypes.byref(paramAvailable), \n",
    "                    ctypes.byref(paramReadOnly), \n",
    "                    ctypes.byref(paramMin), \n",
    "                    ctypes.byref(paramMax), \n",
    "                    ctypes.byref(paramDefault))"
   ]
  },
  {
   "cell_type": "code",
   "execution_count": 11,
   "metadata": {},
   "outputs": [
    {
     "data": {
      "text/plain": [
       "0"
      ]
     },
     "execution_count": 11,
     "metadata": {},
     "output_type": "execute_result"
    }
   ],
   "source": [
    "device.GetParamInfo(PARAM_X_POS, ctypes.byref(paramType), \n",
    "                    ctypes.byref(paramAvailable), \n",
    "                    ctypes.byref(paramReadOnly), \n",
    "                    ctypes.byref(paramMin), \n",
    "                    ctypes.byref(paramMax), \n",
    "                    ctypes.byref(paramDefault))"
   ]
  },
  {
   "cell_type": "code",
   "execution_count": 26,
   "metadata": {},
   "outputs": [
    {
     "name": "stdout",
     "output_type": "stream",
     "text": [
      "c_double(10.0)\n"
     ]
    }
   ],
   "source": [
    "posx = ctypes.c_double()\n",
    "posx.value = paramMax.value/10.\n",
    "print(posx)"
   ]
  },
  {
   "cell_type": "code",
   "execution_count": 30,
   "metadata": {},
   "outputs": [
    {
     "data": {
      "text/plain": [
       "0"
      ]
     },
     "execution_count": 30,
     "metadata": {},
     "output_type": "execute_result"
    }
   ],
   "source": [
    "device.SetParam(PARAM_X_POS, posx)\n",
    "device.PreflightPosition()\n",
    "device.SetupPosition()\n",
    "device.StartPosition()"
   ]
  },
  {
   "cell_type": "code",
   "execution_count": 36,
   "metadata": {},
   "outputs": [
    {
     "data": {
      "text/plain": [
       "1"
      ]
     },
     "execution_count": 36,
     "metadata": {},
     "output_type": "execute_result"
    }
   ],
   "source": [
    "device.StatusPosition(ctypes.byref(status))"
   ]
  },
  {
   "cell_type": "code",
   "execution_count": 37,
   "metadata": {},
   "outputs": [
    {
     "data": {
      "text/plain": [
       "c_long(1)"
      ]
     },
     "execution_count": 37,
     "metadata": {},
     "output_type": "execute_result"
    }
   ],
   "source": [
    "status"
   ]
  },
  {
   "cell_type": "code",
   "execution_count": null,
   "metadata": {},
   "outputs": [],
   "source": [
    "# add while loop to poll status"
   ]
  },
  {
   "cell_type": "code",
   "execution_count": 38,
   "metadata": {},
   "outputs": [
    {
     "data": {
      "text/plain": [
       "1"
      ]
     },
     "execution_count": 38,
     "metadata": {},
     "output_type": "execute_result"
    }
   ],
   "source": [
    "device.PostflightPosition()"
   ]
  },
  {
   "cell_type": "code",
   "execution_count": 44,
   "metadata": {},
   "outputs": [
    {
     "data": {
      "text/plain": [
       "0"
      ]
     },
     "execution_count": 44,
     "metadata": {},
     "output_type": "execute_result"
    }
   ],
   "source": [
    "device.GetParam(PARAM_X_POS_CURRENT, posx)"
   ]
  },
  {
   "cell_type": "code",
   "execution_count": 45,
   "metadata": {},
   "outputs": [
    {
     "data": {
      "text/plain": [
       "c_double(10.0)"
      ]
     },
     "execution_count": 45,
     "metadata": {},
     "output_type": "execute_result"
    }
   ],
   "source": [
    "posx"
   ]
  },
  {
   "cell_type": "code",
   "execution_count": 1,
   "metadata": {},
   "outputs": [],
   "source": [
    "import serial"
   ]
  },
  {
   "cell_type": "code",
   "execution_count": 3,
   "metadata": {},
   "outputs": [],
   "source": [
    "serial.Serial?"
   ]
  },
  {
   "cell_type": "code",
   "execution_count": 283,
   "metadata": {},
   "outputs": [],
   "source": [
    "ser = serial.Serial('COM32', 460800, timeout=2)"
   ]
  },
  {
   "cell_type": "code",
   "execution_count": 284,
   "metadata": {},
   "outputs": [
    {
     "name": "stdout",
     "output_type": "stream",
     "text": [
      "True\n"
     ]
    }
   ],
   "source": [
    "print(ser.isOpen())"
   ]
  },
  {
   "cell_type": "code",
   "execution_count": 275,
   "metadata": {},
   "outputs": [],
   "source": [
    "def get_current_position(ser):\n",
    "    ser.flushInput()\n",
    "    ser.flushOutput()\n",
    "    command = b'\\x0A\\x04\\x00\\x00\\x00\\x00'\n",
    "    ser.write(command)\n",
    "    response = ser.read(size=12)\n",
    "    encoder_count = int.from_bytes(response[-4:], 'little')\n",
    "    return encoder_count"
   ]
  },
  {
   "cell_type": "code",
   "execution_count": 285,
   "metadata": {},
   "outputs": [
    {
     "data": {
      "text/plain": [
       "4294957849"
      ]
     },
     "execution_count": 285,
     "metadata": {},
     "output_type": "execute_result"
    }
   ],
   "source": [
    "get_current_position(ser)"
   ]
  },
  {
   "cell_type": "code",
   "execution_count": 57,
   "metadata": {},
   "outputs": [],
   "source": [
    "def set_zero(ser):\n",
    "    ser.flushInput()\n",
    "    ser.flushOutput()\n",
    "    command = b'\\x09\\x04\\x06\\x00\\x00\\x00\\x00\\x00\\x00\\x00\\x00\\x00'\n",
    "    ser.write(command)"
   ]
  },
  {
   "cell_type": "code",
   "execution_count": 286,
   "metadata": {},
   "outputs": [],
   "source": [
    "set_zero(ser)"
   ]
  },
  {
   "cell_type": "code",
   "execution_count": 234,
   "metadata": {},
   "outputs": [],
   "source": [
    "# stage ZFM2020\n",
    "def um2counts(micron):\n",
    "    return int(micron / 0.2116667)\n",
    "\n",
    "def counts2mm(counts):\n",
    "    return counts * 0.2116667"
   ]
  },
  {
   "cell_type": "code",
   "execution_count": 287,
   "metadata": {},
   "outputs": [],
   "source": [
    "import struct\n",
    "def go_to_position(ser, posx_um=0):\n",
    "    ser.flushInput()\n",
    "    ser.flushOutput()\n",
    "    counts_binary = struct.pack(\"<l\", um2counts(posx_um))\n",
    "    command = b'\\x53\\x04\\x06\\x00\\x00\\x00\\x00\\x00' + counts_binary\n",
    "    ser.write(command)"
   ]
  },
  {
   "cell_type": "code",
   "execution_count": 295,
   "metadata": {},
   "outputs": [],
   "source": [
    "import time\n",
    "go_to_position(ser,5000)\n",
    "time.sleep(0.4)\n",
    "stop(ser)"
   ]
  },
  {
   "cell_type": "code",
   "execution_count": 289,
   "metadata": {},
   "outputs": [],
   "source": [
    "def stop(ser):\n",
    "    ser.flushInput()\n",
    "    ser.flushOutput()\n",
    "    command = b'\\x65\\x04\\x00\\x01\\x00\\x00'\n",
    "    ser.write(command)"
   ]
  },
  {
   "cell_type": "code",
   "execution_count": 280,
   "metadata": {},
   "outputs": [],
   "source": [
    "ser.close()"
   ]
  },
  {
   "cell_type": "code",
   "execution_count": null,
   "metadata": {},
   "outputs": [],
   "source": []
  },
  {
   "cell_type": "code",
   "execution_count": null,
   "metadata": {},
   "outputs": [],
   "source": []
  }
 ],
 "metadata": {
  "kernelspec": {
   "display_name": "Python [conda env:py36]",
   "language": "python",
   "name": "conda-env-py36-py"
  },
  "language_info": {
   "codemirror_mode": {
    "name": "ipython",
    "version": 3
   },
   "file_extension": ".py",
   "mimetype": "text/x-python",
   "name": "python",
   "nbconvert_exporter": "python",
   "pygments_lexer": "ipython3",
   "version": "3.6.5"
  }
 },
 "nbformat": 4,
 "nbformat_minor": 2
}
